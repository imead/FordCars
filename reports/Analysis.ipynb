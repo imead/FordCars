{
 "cells": [
  {
   "cell_type": "code",
   "execution_count": 1,
   "metadata": {},
   "outputs": [
    {
     "ename": "LoadError",
     "evalue": "syntax: invalid operator \"--\"",
     "output_type": "error",
     "traceback": [
      "syntax: invalid operator \"--\"",
      "",
      "Stacktrace:",
      " [1] top-level scope",
      "   @ In[1]:1",
      " [2] eval",
      "   @ .\\boot.jl:373 [inlined]",
      " [3] include_string(mapexpr::typeof(REPL.softscope), mod::Module, code::String, filename::String)",
      "   @ Base .\\loading.jl:1196"
     ]
    }
   ],
   "source": [
    "---\n",
    "title: \"Ford Car Analysis - Analysis Review\"\n",
    "author: Ivy Mead\n",
    "date: \"6/25/22\"\n",
    "format: \n",
    "    html:\n",
    "        code-fold: true\n",
    "execute:\n",
    "    enabled: true\n",
    "jupyter: julia-1.7\n",
    "---\n",
    "\n",
    "## Data Exploration\n",
    "\n",
    "Downloaded data from Kaggle: [Ford Car Price Prediction from Adhurim Quku](https://www.kaggle.com/datasets/adhurimquku/ford-car-price-prediction).\n",
    "Data formated as a CSV.\n",
    "\n",
    "Explored the data at the same time as trying to better understand how to navigate some\n",
    "popular Julia packages such as DataFrames, CSV, StatsBase, CategoricalArrays, Statistics,\n",
    "and GLMakie/CairoMakie.\n",
    "\n",
    "Code included in code/exploration.jl\n",
    "\n",
    "## Data Cleaning and Analysis\n",
    "\n",
    "Code included in code/cleaning_analysis.jl"
   ]
  },
  {
   "cell_type": "code",
   "execution_count": null,
   "metadata": {},
   "outputs": [
    {
     "ename": "",
     "evalue": "",
     "output_type": "error",
     "traceback": [
      "\u001b[1;31mRunning cells with 'Python 3.7.9 64-bit (windows store)' requires ipykernel package.\n",
      "Run the following command to install 'ipykernel' into the Python environment. \n",
      "Command: 'c:/Users/ivylm/AppData/Local/Microsoft/WindowsApps/python3.7.exe -m pip install ipykernel -U --user --force-reinstall'"
     ]
    }
   ],
   "source": []
  }
 ],
 "metadata": {
  "kernelspec": {
   "display_name": "Julia 1.7.2",
   "language": "julia",
   "name": "julia-1.7"
  },
  "language_info": {
   "file_extension": ".jl",
   "mimetype": "application/julia",
   "name": "julia",
   "version": "1.7.2"
  },
  "orig_nbformat": 4,
  "vscode": {
   "interpreter": {
    "hash": "a5b0c299d6d946c4a643bbdeeb1dec6d9a212f023ce8fa51daf9782dc8796517"
   }
  }
 },
 "nbformat": 4,
 "nbformat_minor": 2
}
